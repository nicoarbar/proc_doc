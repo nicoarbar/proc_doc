{
 "cells": [
  {
   "cell_type": "code",
   "execution_count": 48,
   "metadata": {},
   "outputs": [],
   "source": [
    "def doc_choose():\n",
    "    opt_dict = {\n",
    "        '1': 'A1',\n",
    "        '2': 'A2',\n",
    "        '3': 'A3',\n",
    "        '4': 'A4',\n",
    "        '5': 'A5',\n",
    "        '6': 'A6',\n",
    "        '10': 'Todos los modelos'\n",
    "    }\n",
    "    for k, v in opt_dict.items():\n",
    "        print(v, ': ', k)\n",
    "\n",
    "    modelo = input('Elije el numero de modelo a procesar')\n",
    "\n",
    "    print(f'Eljiste modelo {opt_dict[modelo]}')\n",
    "    return opt_dict[modelo]\n",
    "\n",
    "def excel_to_json(excel_path):\n",
    "    xls = ExcelFile(excel_path)\n",
    "    df = xls.parse(xls.sheet_names[0]).fillna('REMOVENA')\n",
    "    excel_dict = df.to_dict()\n",
    "    return excel_dict\n",
    "\n",
    "def current_date_format(date):\n",
    "    months = (\"Enero\", \"Febrero\", \"Marzo\", \"Abri\", \"Mayo\", \"Junio\", \"Julio\", \"Agosto\", \"Septiembre\", \"Octubre\", \"Noviembre\", \"Diciembre\")\n",
    "    day = date.day\n",
    "    month = months[date.month - 1]\n",
    "    year = date.year\n",
    "    messsage = \"{} de {} de {}\".format(day, month, year)\n",
    "    return messsage"
   ]
  },
  {
   "cell_type": "code",
   "execution_count": 45,
   "metadata": {},
   "outputs": [],
   "source": [
    "from pandas import *\n",
    "import aspose.words as aw\n",
    "#from doc_funcs import * \n",
    "import os\n",
    "from datetime import datetime"
   ]
  },
  {
   "cell_type": "code",
   "execution_count": 55,
   "metadata": {},
   "outputs": [
    {
     "name": "stdout",
     "output_type": "stream",
     "text": [
      "A1 :  1\n",
      "A2 :  2\n",
      "A3 :  3\n",
      "A4 :  4\n",
      "A5 :  5\n",
      "A6 :  6\n",
      "Todos los modelos :  10\n",
      "Eljiste modelo A5\n"
     ]
    },
    {
     "data": {
      "text/plain": [
       "'A5'"
      ]
     },
     "execution_count": 55,
     "metadata": {},
     "output_type": "execute_result"
    }
   ],
   "source": [
    "# Welcome and doc choose\n",
    "doc_model = doc_choose()"
   ]
  },
  {
   "cell_type": "code",
   "execution_count": 12,
   "metadata": {},
   "outputs": [],
   "source": [
    "# Path settings of doc and excel templates\n",
    "current_dir = os.getcwd()\n",
    "doc_path = current_dir + \"\\input_docs\\cierre instruccion procedimiento.docx\"\n",
    "excel_path = current_dir + \"\\input_docs\\Excel Modelos FAB.xlsx\""
   ]
  },
  {
   "cell_type": "code",
   "execution_count": 65,
   "metadata": {},
   "outputs": [
    {
     "ename": "AttributeError",
     "evalue": "'dict' object has no attribute 'fillna'",
     "output_type": "error",
     "traceback": [
      "\u001b[1;31m---------------------------------------------------------------------------\u001b[0m",
      "\u001b[1;31mAttributeError\u001b[0m                            Traceback (most recent call last)",
      "\u001b[1;32mc:\\Users\\2131239\\OneDrive - Cognizant\\Desktop\\Repo Pepsico Market Share\\proc_doc\\doc_main_nb.ipynb Cell 5\u001b[0m in \u001b[0;36m<module>\u001b[1;34m\u001b[0m\n\u001b[0;32m      <a href='vscode-notebook-cell:/c%3A/Users/2131239/OneDrive%20-%20Cognizant/Desktop/Repo%20Pepsico%20Market%20Share/proc_doc/doc_main_nb.ipynb#W3sZmlsZQ%3D%3D?line=0'>1</a>\u001b[0m \u001b[39m# Reading Excel template\u001b[39;00m\n\u001b[1;32m----> <a href='vscode-notebook-cell:/c%3A/Users/2131239/OneDrive%20-%20Cognizant/Desktop/Repo%20Pepsico%20Market%20Share/proc_doc/doc_main_nb.ipynb#W3sZmlsZQ%3D%3D?line=1'>2</a>\u001b[0m excel_dict \u001b[39m=\u001b[39m excel_to_json(excel_path)\u001b[39m.\u001b[39;49mfillna(\u001b[39m'\u001b[39m\u001b[39mREMOVENA\u001b[39m\u001b[39m'\u001b[39m)\n",
      "\u001b[1;31mAttributeError\u001b[0m: 'dict' object has no attribute 'fillna'"
     ]
    }
   ],
   "source": [
    "# Reading Excel template\n",
    "excel_dict = excel_to_json(excel_path)"
   ]
  },
  {
   "cell_type": "code",
   "execution_count": null,
   "metadata": {},
   "outputs": [
    {
     "data": {
      "text/plain": [
       "{'NUMERO_A': {0: 4.0, 1: nan},\n",
       " 'TIPO_A': {0: 'Cierre de instrucción', 1: nan},\n",
       " 'NOMBRE_DEMANDANTE': {0: 'Patagonia S.L.', 1: nan},\n",
       " 'PAIS_DEMANDANTE': {0: 'España', 1: nan},\n",
       " 'ABOGADO_DEMANDANTE': {0: 'Soraya Lobo', 1: 'Nicolas Aragon'},\n",
       " 'CORREO_ABO_DEMANDANTE': {0: 'sorayalobo@gmail.com',\n",
       "  1: 'nicoaragon@gmail.com'},\n",
       " 'NOMBRE_DESPACHO_DEMANDANTE': {0: 'Legalitas', 1: nan},\n",
       " 'NOMBRE_DEMANDADA': {0: 'Cerámicas Roca S.L.', 1: nan},\n",
       " 'PAIS_DEMANDADA': {0: 'Francia', 1: nan},\n",
       " 'ABOGADO_DEMANDADA': {0: 'Eugenia Navarro', 1: 'John Doe'},\n",
       " 'CORREO_ABO_DEMANDADA': {0: 'eugenianavarro@gmail.com',\n",
       "  1: 'johndoe@gmail.com'},\n",
       " 'NOMBRE_DESPACHO_DEMANDADA': {0: 'Freshfields', 1: nan},\n",
       " 'NOMBRE_ARBITRO': {0: 'Catalina Aragón', 1: 'Nicolas Barrero'},\n",
       " 'CORREO_SECRETARIO': {0: 'cata@gmail.com', 1: 'nico@gmail.com'},\n",
       " 'NOM_CONS_SECRETARIO': {0: 'Tetwoo Aragón', 1: nan},\n",
       " 'CORREO_CONS_SECRETARIO': {0: 'tweetoo@gmail.com', 1: nan},\n",
       " 'NUMERO_CASO': {0: 'AA-RR 3821/23', 1: nan},\n",
       " 'NOMBRE_CORTE': {0: 'Corte de Arbitraje de Madrid', 1: nan},\n",
       " 'REGLA_INSTITUCION': {0: 'Reglamento de la CAM', 1: nan},\n",
       " 'ART_REGLA_ESCRUTINIO': {0: 43.0, 1: nan},\n",
       " 'NOMBRE_PRESIDENTE': {0: 'Felipe Aragón', 1: nan}}"
      ]
     },
     "execution_count": 53,
     "metadata": {},
     "output_type": "execute_result"
    }
   ],
   "source": [
    "excel_dict"
   ]
  },
  {
   "cell_type": "code",
   "execution_count": 64,
   "metadata": {},
   "outputs": [
    {
     "data": {
      "text/plain": [
       "nan"
      ]
     },
     "execution_count": 64,
     "metadata": {},
     "output_type": "execute_result"
    }
   ],
   "source": [
    "excel_dict['TIPO_A'][1] + 1"
   ]
  },
  {
   "cell_type": "code",
   "execution_count": 61,
   "metadata": {},
   "outputs": [
    {
     "ename": "ValueError",
     "evalue": "list.remove(x): x not in list",
     "output_type": "error",
     "traceback": [
      "\u001b[1;31m---------------------------------------------------------------------------\u001b[0m",
      "\u001b[1;31mValueError\u001b[0m                                Traceback (most recent call last)",
      "\u001b[1;32mc:\\Users\\2131239\\OneDrive - Cognizant\\Desktop\\Repo Pepsico Market Share\\proc_doc\\doc_main_nb.ipynb Cell 7\u001b[0m in \u001b[0;36m<module>\u001b[1;34m\u001b[0m\n\u001b[0;32m      <a href='vscode-notebook-cell:/c%3A/Users/2131239/OneDrive%20-%20Cognizant/Desktop/Repo%20Pepsico%20Market%20Share/proc_doc/doc_main_nb.ipynb#X30sZmlsZQ%3D%3D?line=0'>1</a>\u001b[0m clean_dict \u001b[39m=\u001b[39m {}\n\u001b[0;32m      <a href='vscode-notebook-cell:/c%3A/Users/2131239/OneDrive%20-%20Cognizant/Desktop/Repo%20Pepsico%20Market%20Share/proc_doc/doc_main_nb.ipynb#X30sZmlsZQ%3D%3D?line=1'>2</a>\u001b[0m \u001b[39mfor\u001b[39;00m struct, text \u001b[39min\u001b[39;00m excel_dict\u001b[39m.\u001b[39mitems():\n\u001b[1;32m----> <a href='vscode-notebook-cell:/c%3A/Users/2131239/OneDrive%20-%20Cognizant/Desktop/Repo%20Pepsico%20Market%20Share/proc_doc/doc_main_nb.ipynb#X30sZmlsZQ%3D%3D?line=2'>3</a>\u001b[0m         clean_dict[struct] \u001b[39m=\u001b[39m \u001b[39mlist\u001b[39;49m(text\u001b[39m.\u001b[39;49mvalues())\u001b[39m.\u001b[39;49mremove(\u001b[39mNone\u001b[39;49;00m)\n",
      "\u001b[1;31mValueError\u001b[0m: list.remove(x): x not in list"
     ]
    }
   ],
   "source": [
    "clean_dict = {}\n",
    "for struct, text in excel_dict.items():\n",
    "        clean_dict[struct] = list(text.values()).remove(None)"
   ]
  },
  {
   "cell_type": "code",
   "execution_count": null,
   "metadata": {},
   "outputs": [
    {
     "data": {
      "text/plain": [
       "{'NUMERO_A': [4.0, nan],\n",
       " 'TIPO_A': ['Cierre de instrucción', nan],\n",
       " 'NOMBRE_DEMANDANTE': ['Patagonia S.L.', nan],\n",
       " 'PAIS_DEMANDANTE': ['España', nan],\n",
       " 'ABOGADO_DEMANDANTE': ['Soraya Lobo', 'Nicolas Aragon'],\n",
       " 'CORREO_ABO_DEMANDANTE': ['sorayalobo@gmail.com', 'nicoaragon@gmail.com'],\n",
       " 'NOMBRE_DESPACHO_DEMANDANTE': ['Legalitas', nan],\n",
       " 'NOMBRE_DEMANDADA': ['Cerámicas Roca S.L.', nan],\n",
       " 'PAIS_DEMANDADA': ['Francia', nan],\n",
       " 'ABOGADO_DEMANDADA': ['Eugenia Navarro', 'John Doe'],\n",
       " 'CORREO_ABO_DEMANDADA': ['eugenianavarro@gmail.com', 'johndoe@gmail.com'],\n",
       " 'NOMBRE_DESPACHO_DEMANDADA': ['Freshfields', nan],\n",
       " 'NOMBRE_ARBITRO': ['Catalina Aragón', 'Nicolas Barrero'],\n",
       " 'CORREO_SECRETARIO': ['cata@gmail.com', 'nico@gmail.com'],\n",
       " 'NOM_CONS_SECRETARIO': ['Tetwoo Aragón', nan],\n",
       " 'CORREO_CONS_SECRETARIO': ['tweetoo@gmail.com', nan],\n",
       " 'NUMERO_CASO': ['AA-RR 3821/23', nan],\n",
       " 'NOMBRE_CORTE': ['Corte de Arbitraje de Madrid', nan],\n",
       " 'REGLA_INSTITUCION': ['Reglamento de la CAM', nan],\n",
       " 'ART_REGLA_ESCRUTINIO': [43.0, nan],\n",
       " 'NOMBRE_PRESIDENTE': ['Felipe Aragón', nan]}"
      ]
     },
     "execution_count": 59,
     "metadata": {},
     "output_type": "execute_result"
    }
   ],
   "source": [
    "clean_dict"
   ]
  },
  {
   "cell_type": "code",
   "execution_count": 54,
   "metadata": {},
   "outputs": [
    {
     "data": {
      "text/plain": [
       "3"
      ]
     },
     "execution_count": 54,
     "metadata": {},
     "output_type": "execute_result"
    }
   ],
   "source": [
    "# Functional transformations on the columns\n",
    "\n",
    "tipo_a_anterior = int(excel_dict['NUMERO_A'][0]) - 1"
   ]
  },
  {
   "cell_type": "code",
   "execution_count": null,
   "metadata": {},
   "outputs": [],
   "source": [
    "# Current date in Spanish legal format\n",
    "now = datetime.now()\n",
    "current_date = current_date_format(now)"
   ]
  },
  {
   "cell_type": "code",
   "execution_count": null,
   "metadata": {},
   "outputs": [],
   "source": [
    "excel_dict['TIPO_A_ANTERIOR'] = tipo_a_anterior\n",
    "excel_dict['CURRENT_DATE'] = current_date"
   ]
  },
  {
   "cell_type": "code",
   "execution_count": 25,
   "metadata": {},
   "outputs": [],
   "source": [
    "# Opening word doc\n",
    "doc = aw.Document(doc_path)"
   ]
  },
  {
   "cell_type": "code",
   "execution_count": null,
   "metadata": {},
   "outputs": [],
   "source": [
    "for struct, text in clean_dict.items():\n",
    "    doc.range.replace(struct, text, aw.replacing.FindReplaceOptions(aw.replacing.FindReplaceDirection.FORWARD))"
   ]
  },
  {
   "cell_type": "code",
   "execution_count": null,
   "metadata": {},
   "outputs": [],
   "source": [
    "# save the modified document\n",
    "demandante = excel_dict['NOMBRE_DEMANDANTE']\n",
    "demandada = excel_dict['NOMBRE_DEMANDADA']\n",
    "tipo_a = excel_dict['TIPO_A']\n",
    "numero_a = excel_dict['NUMERO_A']\n",
    "doc.save(doc_path = current_dir + f\"\\output_docs\\{numero_a + ' - ' + tipo_a + ' - ' + demandante + ' V. ' + demandada + ' - ' + current_date}.docx\")"
   ]
  }
 ],
 "metadata": {
  "kernelspec": {
   "display_name": "Python 3.10.2 64-bit",
   "language": "python",
   "name": "python3"
  },
  "language_info": {
   "codemirror_mode": {
    "name": "ipython",
    "version": 3
   },
   "file_extension": ".py",
   "mimetype": "text/x-python",
   "name": "python",
   "nbconvert_exporter": "python",
   "pygments_lexer": "ipython3",
   "version": "3.10.2"
  },
  "orig_nbformat": 4,
  "vscode": {
   "interpreter": {
    "hash": "a875a70d50ccf9c7ae5022621745db6cb45f1e7be56c998c87f1ccf43d634cba"
   }
  }
 },
 "nbformat": 4,
 "nbformat_minor": 2
}
